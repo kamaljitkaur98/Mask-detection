{
 "cells": [
  {
   "cell_type": "code",
   "execution_count": 30,
   "metadata": {},
   "outputs": [],
   "source": [
    "import os\n",
    "import cv2\n",
    "import numpy as np\n",
    "import pickle\n",
    "import matplotlib.pyplot as plt"
   ]
  },
  {
   "cell_type": "code",
   "execution_count": 31,
   "metadata": {},
   "outputs": [],
   "source": [
    "directory = r\"C:\\Users\\kamal\\BeginnerImageClassification\\Dataset\"\n",
    "categories = ['Mask', 'No Mask']\n",
    "dataset = []\n",
    "for category in categories:\n",
    "    path = os.path.join(directory,category)\n",
    "    label = categories.index(category)\n",
    "    for img in os.listdir(path):\n",
    "        imgpath = os.path.join(path,img)\n",
    "        data_img = cv2.imread(imgpath,0)\n",
    "        try:\n",
    "            data_img = cv2.resize(data_img,(50,50))\n",
    "            image = np.array(data_img).flatten()\n",
    "            dataset.append([image,label])\n",
    "        except Exception as e:\n",
    "            pass"
   ]
  },
  {
   "cell_type": "code",
   "execution_count": 32,
   "metadata": {},
   "outputs": [
    {
     "name": "stdout",
     "output_type": "stream",
     "text": [
      "101\n"
     ]
    }
   ],
   "source": [
    "print(len(dataset))"
   ]
  },
  {
   "cell_type": "code",
   "execution_count": 33,
   "metadata": {},
   "outputs": [],
   "source": [
    "#Randomising the dataset above\n",
    "import random\n",
    "random.shuffle(dataset)\n",
    "features = []\n",
    "labels = []\n",
    "for feature,label in dataset:\n",
    "    features.append(feature)\n",
    "    labels.append(label)"
   ]
  },
  {
   "cell_type": "code",
   "execution_count": 47,
   "metadata": {},
   "outputs": [
    {
     "data": {
      "text/plain": [
       "SVC(C=1, gamma='auto', kernel='poly')"
      ]
     },
     "execution_count": 47,
     "metadata": {},
     "output_type": "execute_result"
    }
   ],
   "source": [
    "#Spilt into training and testing\n",
    "from sklearn.model_selection import train_test_split\n",
    "from sklearn.svm import SVC\n",
    "\n",
    "X_train,X_test,Y_train,Y_test = train_test_split(features,labels,test_size = 0.20)\n",
    "model = SVC(C=1,kernel='poly',gamma='auto')\n",
    "model.fit(X_train,Y_train)"
   ]
  },
  {
   "cell_type": "code",
   "execution_count": 48,
   "metadata": {},
   "outputs": [
    {
     "name": "stdout",
     "output_type": "stream",
     "text": [
      "Accuracy :  80.95238095238095 %\n",
      "Not wearing mask\n"
     ]
    },
    {
     "data": {
      "image/png": "[encoded data removed]",
      "text/plain": [
       "<Figure size 432x288 with 1 Axes>"
      ]
     },
     "metadata": {
      "needs_background": "light"
     },
     "output_type": "display_data"
    }
   ],
   "source": [
    "predictions = model.predict(X_test)\n",
    "\n",
    "#Calculate the accuracy score\n",
    "accuracy = (model.score(X_test,Y_test) * 100)\n",
    "print(\"Accuracy : \", accuracy, \"%\")\n",
    "\n",
    "#Printing the results to check the value\n",
    "sample = predictions[2]\n",
    "if(sample == 0):\n",
    "    print(\"Wearing mask\")\n",
    "else:\n",
    "    print(\"Not wearing mask\")\n",
    "    \n",
    "sample_image = X_test[2].reshape(50,50)\n",
    "plt.imshow(sample_image)\n",
    "plt.show()"
   ]
  },
  {
   "cell_type": "code",
   "execution_count": 49,
   "metadata": {},
   "outputs": [
    {
     "name": "stdout",
     "output_type": "stream",
     "text": [
      "Accuracy :  76.19047619047619 %\n",
      "Not wearing mask\n"
     ]
    },
    {
     "data": {
      "image/png": "[encoded data removed]",
      "text/plain": [
       "<Figure size 432x288 with 1 Axes>"
      ]
     },
     "metadata": {
      "needs_background": "light"
     },
     "output_type": "display_data"
    }
   ],
   "source": [
    "#Preparing and test classifier using Naive Bayes\n",
    "\n",
    "from sklearn.naive_bayes import GaussianNB\n",
    "model2 = GaussianNB()\n",
    "model2.fit(X_train,Y_train)\n",
    "predictions2 = model2.predict(X_test)\n",
    "#Calculate the accuracy score\n",
    "accuracy = (model2.score(X_test,Y_test) * 100)\n",
    "print(\"Accuracy : \", accuracy, \"%\")\n",
    "\n",
    "#Printing the results to check the value\n",
    "sample = predictions2[2]\n",
    "if(sample == 0):\n",
    "    print(\"Wearing mask\")\n",
    "else:\n",
    "    print(\"Not wearing mask\")\n",
    "    \n",
    "sample_image = X_test[2].reshape(50,50)\n",
    "plt.imshow(sample_image)\n",
    "plt.show()"
   ]
  },
  {
   "cell_type": "code",
   "execution_count": null,
   "metadata": {},
   "outputs": [],
   "source": []
  },
  {
   "cell_type": "code",
   "execution_count": null,
   "metadata": {},
   "outputs": [],
   "source": []
  }
 ],
 "metadata": {
  "kernelspec": {
   "display_name": "Python 3",
   "language": "python",
   "name": "python3"
  },
  "language_info": {
   "codemirror_mode": {
    "name": "ipython",
    "version": 3
   },
   "file_extension": ".py",
   "mimetype": "text/x-python",
   "name": "python",
   "nbconvert_exporter": "python",
   "pygments_lexer": "ipython3",
   "version": "3.8.3"
  }
 },
 "nbformat": 4,
 "nbformat_minor": 4
}
